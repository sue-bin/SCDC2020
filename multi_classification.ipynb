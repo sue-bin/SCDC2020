{
  "nbformat": 4,
  "nbformat_minor": 0,
  "metadata": {
    "colab": {
      "name": "multi_classification.ipynb",
      "provenance": [],
      "collapsed_sections": [],
      "authorship_tag": "ABX9TyOSKGTurO6qdRgFPaiXm2Ts"
    },
    "kernelspec": {
      "name": "python3",
      "display_name": "Python 3"
    },
    "accelerator": "TPU"
  },
  "cells": [
    {
      "cell_type": "code",
      "metadata": {
        "id": "Vqaktcnxjr-a",
        "colab_type": "code",
        "colab": {
          "base_uri": "https://localhost:8080/",
          "height": 36
        },
        "outputId": "4e4f7b22-a95a-45c5-f019-d795129797fa"
      },
      "source": [
        "from google.colab import drive\n",
        "drive.mount('/content/drive')"
      ],
      "execution_count": 1,
      "outputs": [
        {
          "output_type": "stream",
          "text": [
            "Drive already mounted at /content/drive; to attempt to forcibly remount, call drive.mount(\"/content/drive\", force_remount=True).\n"
          ],
          "name": "stdout"
        }
      ]
    },
    {
      "cell_type": "code",
      "metadata": {
        "id": "FJYd9JDekbTw",
        "colab_type": "code",
        "colab": {
          "base_uri": "https://localhost:8080/",
          "height": 75
        },
        "outputId": "5ebf32ad-df01-457b-e64c-9f0de7dd2a94"
      },
      "source": [
        "import pandas as pd\n",
        "import numpy as np\n",
        "import seaborn as sns\n",
        "from patsy import dmatrices\n",
        "import statsmodels.api as sm;\n",
        "from statsmodels.stats.outliers_influence import variance_inflation_factor\n",
        "%matplotlib inline\n",
        "pd.set_option(\"display.max_rows\", None)\n",
        "pd.set_option(\"display.max_columns\", None)"
      ],
      "execution_count": 2,
      "outputs": [
        {
          "output_type": "stream",
          "text": [
            "/usr/local/lib/python3.6/dist-packages/statsmodels/tools/_testing.py:19: FutureWarning: pandas.util.testing is deprecated. Use the functions in the public API at pandas.testing instead.\n",
            "  import pandas.util.testing as tm\n"
          ],
          "name": "stderr"
        }
      ]
    },
    {
      "cell_type": "code",
      "metadata": {
        "id": "n60p_LyVlyRt",
        "colab_type": "code",
        "colab": {}
      },
      "source": [
        "import time\n",
        "import numpy as np \n",
        "import pandas as pd \n",
        "import matplotlib.pyplot as plt\n",
        "from matplotlib.pyplot import figure\n",
        "import seaborn as sns\n",
        "from sklearn import preprocessing\n",
        "from sklearn.preprocessing import LabelEncoder\n",
        "from sklearn.preprocessing import StandardScaler\n",
        "from sklearn.model_selection import train_test_split\n",
        "from sklearn.metrics import classification_report,confusion_matrix\n",
        "from sklearn.ensemble import RandomForestClassifier"
      ],
      "execution_count": 3,
      "outputs": []
    },
    {
      "cell_type": "code",
      "metadata": {
        "id": "N3NKtTc8sNZ4",
        "colab_type": "code",
        "colab": {}
      },
      "source": [
        "info_df_raw = pd.read_csv(\"/content/drive/My Drive/데이터분석/samsung/info1.csv\")\n",
        "feat_df_raw = pd.read_csv(\"/content/drive/My Drive/데이터분석/samsung/samp_cst_feat.csv\")\n",
        "train_df_raw = pd.read_csv(\"/content/drive/My Drive/데이터분석/samsung/samp_train.csv\")\n",
        "dtype_df_raw = pd.read_excel(\"/content/drive/My Drive/데이터분석/samsung/variable_dtype.xlsx\")"
      ],
      "execution_count": 4,
      "outputs": []
    },
    {
      "cell_type": "code",
      "metadata": {
        "id": "wM0hvGlii1-r",
        "colab_type": "code",
        "colab": {}
      },
      "source": [
        "info_df = info_df_raw.copy()\n",
        "feat_df = feat_df_raw.copy()\n",
        "train_df = train_df_raw.copy()"
      ],
      "execution_count": 5,
      "outputs": []
    },
    {
      "cell_type": "code",
      "metadata": {
        "id": "ZIu-leKEkuIp",
        "colab_type": "code",
        "colab": {}
      },
      "source": [
        "dtype_dict = dtype_df_raw.set_index('Variable_Name')['dType'].to_dict()"
      ],
      "execution_count": 6,
      "outputs": []
    },
    {
      "cell_type": "code",
      "metadata": {
        "id": "nZbA8fmwk0EM",
        "colab_type": "code",
        "colab": {
          "base_uri": "https://localhost:8080/",
          "height": 223
        },
        "outputId": "02d94620-adfd-4da4-97ef-c5c46c48d80f"
      },
      "source": [
        "#카테고리컬 변수타입 변환\n",
        "for w in feat_df_raw.columns:\n",
        "  if w in dtype_dict.keys():\n",
        "    if dtype_dict[w] == \"categorical\":\n",
        "      feat_df[w] = feat_df_raw[w].astype(str)\n",
        "feat_df.dtypes.head(10)"
      ],
      "execution_count": 7,
      "outputs": [
        {
          "output_type": "execute_result",
          "data": {
            "text/plain": [
              "cst_id_di      int64\n",
              "VAR002       float64\n",
              "VAR003       float64\n",
              "VAR004       float64\n",
              "VAR005       float64\n",
              "VAR006       float64\n",
              "VAR007        object\n",
              "VAR008       float64\n",
              "VAR009       float64\n",
              "VAR010       float64\n",
              "dtype: object"
            ]
          },
          "metadata": {
            "tags": []
          },
          "execution_count": 7
        }
      ]
    },
    {
      "cell_type": "code",
      "metadata": {
        "id": "8A_RU2tZk_1S",
        "colab_type": "code",
        "colab": {}
      },
      "source": [
        "#카테고리컬 변수들 행 이름\n",
        "obj_col = []\n",
        "numerical_col = [] \n",
        "for w in dtype_dict:\n",
        "  if dtype_dict[w] == \"categorical\":\n",
        "    obj_col.append(w)\n",
        "  else:\n",
        "    numerical_col.append(w)"
      ],
      "execution_count": 8,
      "outputs": []
    },
    {
      "cell_type": "code",
      "metadata": {
        "id": "Zr_4Nd2JlBvo",
        "colab_type": "code",
        "colab": {
          "base_uri": "https://localhost:8080/",
          "height": 1000
        },
        "outputId": "e7674a9c-6bab-45df-cdc1-8eca99b4d369"
      },
      "source": [
        "##categorical은 다 dummy variables\n",
        "for i in obj_col:\n",
        "  print(feat_df[i].value_counts())\n",
        "  print()"
      ],
      "execution_count": 9,
      "outputs": [
        {
          "output_type": "stream",
          "text": [
            "0    8633\n",
            "1    1491\n",
            "Name: VAR007, dtype: int64\n",
            "\n",
            "0    5430\n",
            "1    4694\n",
            "Name: VAR015, dtype: int64\n",
            "\n",
            "0    8009\n",
            "1    2115\n",
            "Name: VAR018, dtype: int64\n",
            "\n",
            "0    9926\n",
            "1     198\n",
            "Name: VAR026, dtype: int64\n",
            "\n",
            "0    7606\n",
            "1    2518\n",
            "Name: VAR059, dtype: int64\n",
            "\n",
            "0    7324\n",
            "1    2800\n",
            "Name: VAR066, dtype: int64\n",
            "\n",
            "1    8723\n",
            "0    1401\n",
            "Name: VAR067, dtype: int64\n",
            "\n",
            "0    8166\n",
            "1    1958\n",
            "Name: VAR070, dtype: int64\n",
            "\n",
            "0    9314\n",
            "1     810\n",
            "Name: VAR071, dtype: int64\n",
            "\n",
            "0    8769\n",
            "1    1355\n",
            "Name: VAR077, dtype: int64\n",
            "\n",
            "0    9738\n",
            "1     386\n",
            "Name: VAR078, dtype: int64\n",
            "\n",
            "0    9515\n",
            "1     609\n",
            "Name: VAR094, dtype: int64\n",
            "\n",
            "0    9158\n",
            "1     966\n",
            "Name: VAR096, dtype: int64\n",
            "\n",
            "0    8956\n",
            "1    1168\n",
            "Name: VAR097, dtype: int64\n",
            "\n",
            "0    9306\n",
            "1     818\n",
            "Name: VAR098, dtype: int64\n",
            "\n",
            "0    8434\n",
            "1    1690\n",
            "Name: VAR107, dtype: int64\n",
            "\n",
            "0    7949\n",
            "1    2175\n",
            "Name: VAR111, dtype: int64\n",
            "\n",
            "0    7452\n",
            "1    2672\n",
            "Name: VAR124, dtype: int64\n",
            "\n",
            "0    7249\n",
            "1    2875\n",
            "Name: VAR127, dtype: int64\n",
            "\n",
            "0    9952\n",
            "1     172\n",
            "Name: VAR143, dtype: int64\n",
            "\n",
            "0    9485\n",
            "1     639\n",
            "Name: VAR144, dtype: int64\n",
            "\n",
            "0    8960\n",
            "1    1164\n",
            "Name: VAR145, dtype: int64\n",
            "\n",
            "0    8760\n",
            "1    1364\n",
            "Name: VAR148, dtype: int64\n",
            "\n",
            "1    5410\n",
            "0    4714\n",
            "Name: VAR165, dtype: int64\n",
            "\n",
            "0    8620\n",
            "1    1504\n",
            "Name: VAR177, dtype: int64\n",
            "\n",
            "0    8299\n",
            "1    1825\n",
            "Name: VAR179, dtype: int64\n",
            "\n",
            "0    8405\n",
            "1    1719\n",
            "Name: VAR199, dtype: int64\n",
            "\n",
            "0    8764\n",
            "1    1360\n",
            "Name: VAR208, dtype: int64\n",
            "\n"
          ],
          "name": "stdout"
        }
      ]
    },
    {
      "cell_type": "code",
      "metadata": {
        "id": "iEfbo3H4lDOK",
        "colab_type": "code",
        "colab": {}
      },
      "source": [
        "total_df = feat_df_raw.copy()\n",
        "total_df['label'] = train_df_raw['MRC_ID_DI']"
      ],
      "execution_count": 10,
      "outputs": []
    },
    {
      "cell_type": "code",
      "metadata": {
        "id": "pZS8RXmxlHh8",
        "colab_type": "code",
        "colab": {}
      },
      "source": [
        "df = total_df.copy()"
      ],
      "execution_count": 11,
      "outputs": []
    },
    {
      "cell_type": "code",
      "metadata": {
        "id": "2QkrGFvpcDaE",
        "colab_type": "code",
        "colab": {}
      },
      "source": [
        "from sklearn.preprocessing import RobustScaler"
      ],
      "execution_count": 12,
      "outputs": []
    },
    {
      "cell_type": "code",
      "metadata": {
        "id": "BlZJXDTIltZB",
        "colab_type": "code",
        "colab": {}
      },
      "source": [
        "X = df.drop(['label'], axis = 1)\n",
        "Y = df['label']\n",
        "X = RobustScaler().fit_transform(X)"
      ],
      "execution_count": 13,
      "outputs": []
    },
    {
      "cell_type": "code",
      "metadata": {
        "id": "hdS7PV5FlvOT",
        "colab_type": "code",
        "colab": {}
      },
      "source": [
        "from sklearn.decomposition import PCA\n",
        "\n",
        "pca = PCA(n_components=15)\n",
        "X_pca = pca.fit_transform(X)"
      ],
      "execution_count": 26,
      "outputs": []
    },
    {
      "cell_type": "code",
      "metadata": {
        "id": "Cm5l2STWrDPs",
        "colab_type": "code",
        "colab": {}
      },
      "source": [
        "!pip install autokeras\n",
        "!pip install git+https://github.com/keras-team/keras-tuner.git@1.0.2rc1"
      ],
      "execution_count": null,
      "outputs": []
    },
    {
      "cell_type": "code",
      "metadata": {
        "id": "ri79QrgPbPJj",
        "colab_type": "code",
        "colab": {}
      },
      "source": [
        "import autokeras as ak\n",
        "from imblearn.over_sampling import ADASYN "
      ],
      "execution_count": 27,
      "outputs": []
    },
    {
      "cell_type": "code",
      "metadata": {
        "id": "zqBVLoZtbRiZ",
        "colab_type": "code",
        "colab": {}
      },
      "source": [
        "x_train, x_test, y_train, y_test = train_test_split(X, Y, test_size=0.3, random_state=123)"
      ],
      "execution_count": 31,
      "outputs": []
    },
    {
      "cell_type": "code",
      "metadata": {
        "id": "0qG_vV91AT8N",
        "colab_type": "code",
        "colab": {
          "base_uri": "https://localhost:8080/",
          "height": 1000
        },
        "outputId": "66b21041-ad1c-4423-a8b6-17f21a260692"
      },
      "source": [
        "clf1 = ak.StructuredDataClassifier(\n",
        "    overwrite=True,\n",
        "    max_trials=15)\n",
        "clf1.fit(x_train, y_train, epochs=50)"
      ],
      "execution_count": 32,
      "outputs": [
        {
          "output_type": "stream",
          "text": [
            "Trial 15 Complete [00h 00m 35s]\n",
            "val_accuracy: 0.8223021626472473\n",
            "\n",
            "Best val_accuracy So Far: 0.8230215907096863\n",
            "Total elapsed time: 00h 11m 34s\n",
            "INFO:tensorflow:Oracle triggered exit\n",
            "Epoch 1/50\n",
            "222/222 [==============================] - 1s 5ms/step - loss: 0.9896 - accuracy: 0.7910\n",
            "Epoch 2/50\n",
            "222/222 [==============================] - 1s 5ms/step - loss: 0.7324 - accuracy: 0.8098\n",
            "Epoch 3/50\n",
            "222/222 [==============================] - 1s 5ms/step - loss: 0.6990 - accuracy: 0.8095\n",
            "Epoch 4/50\n",
            "222/222 [==============================] - 1s 5ms/step - loss: 0.6850 - accuracy: 0.8098\n",
            "Epoch 5/50\n",
            "222/222 [==============================] - 1s 5ms/step - loss: 0.6773 - accuracy: 0.8099\n",
            "Epoch 6/50\n",
            "222/222 [==============================] - 1s 5ms/step - loss: 0.6781 - accuracy: 0.8096\n",
            "Epoch 7/50\n",
            "222/222 [==============================] - 1s 5ms/step - loss: 0.6710 - accuracy: 0.8098\n",
            "Epoch 8/50\n",
            "222/222 [==============================] - 1s 5ms/step - loss: 0.6704 - accuracy: 0.8100\n",
            "Epoch 9/50\n",
            "222/222 [==============================] - 1s 6ms/step - loss: 0.6637 - accuracy: 0.8096\n",
            "Epoch 10/50\n",
            "222/222 [==============================] - 1s 5ms/step - loss: 0.6661 - accuracy: 0.8092\n",
            "Epoch 11/50\n",
            "222/222 [==============================] - 1s 5ms/step - loss: 0.6628 - accuracy: 0.8091\n",
            "Epoch 12/50\n",
            "222/222 [==============================] - 1s 5ms/step - loss: 0.6640 - accuracy: 0.8098\n",
            "Epoch 13/50\n",
            "222/222 [==============================] - 1s 5ms/step - loss: 0.6629 - accuracy: 0.8102\n",
            "Epoch 14/50\n",
            "222/222 [==============================] - 1s 5ms/step - loss: 0.6733 - accuracy: 0.8095\n",
            "Epoch 15/50\n",
            "222/222 [==============================] - 1s 5ms/step - loss: 0.6638 - accuracy: 0.8096\n",
            "Epoch 16/50\n",
            "222/222 [==============================] - 1s 5ms/step - loss: 0.6642 - accuracy: 0.8092\n",
            "Epoch 17/50\n",
            "222/222 [==============================] - 1s 5ms/step - loss: 0.6650 - accuracy: 0.8105\n",
            "Epoch 18/50\n",
            "222/222 [==============================] - 1s 5ms/step - loss: 0.6674 - accuracy: 0.8105\n",
            "Epoch 19/50\n",
            "222/222 [==============================] - 1s 5ms/step - loss: 0.6637 - accuracy: 0.8093\n",
            "Epoch 20/50\n",
            "222/222 [==============================] - 1s 5ms/step - loss: 0.6611 - accuracy: 0.8091\n",
            "Epoch 21/50\n",
            "222/222 [==============================] - 1s 5ms/step - loss: 0.6617 - accuracy: 0.8095\n",
            "Epoch 22/50\n",
            "222/222 [==============================] - 1s 5ms/step - loss: 0.6616 - accuracy: 0.8095\n",
            "Epoch 23/50\n",
            "222/222 [==============================] - 1s 5ms/step - loss: 0.6526 - accuracy: 0.8102\n",
            "Epoch 24/50\n",
            "222/222 [==============================] - 1s 5ms/step - loss: 0.6581 - accuracy: 0.8089\n",
            "Epoch 25/50\n",
            "222/222 [==============================] - 1s 5ms/step - loss: 0.6642 - accuracy: 0.8096\n",
            "Epoch 26/50\n",
            "222/222 [==============================] - 1s 5ms/step - loss: 0.6606 - accuracy: 0.8096\n",
            "Epoch 27/50\n",
            "222/222 [==============================] - 1s 5ms/step - loss: 0.6694 - accuracy: 0.8095\n",
            "Epoch 28/50\n",
            "222/222 [==============================] - 1s 6ms/step - loss: 0.6622 - accuracy: 0.8082\n",
            "Epoch 29/50\n",
            "222/222 [==============================] - 1s 6ms/step - loss: 0.6647 - accuracy: 0.8095\n",
            "Epoch 30/50\n",
            "222/222 [==============================] - 1s 6ms/step - loss: 0.6663 - accuracy: 0.8096\n",
            "Epoch 31/50\n",
            "222/222 [==============================] - 1s 6ms/step - loss: 0.6564 - accuracy: 0.8093\n",
            "Epoch 32/50\n",
            "222/222 [==============================] - 1s 5ms/step - loss: 0.6646 - accuracy: 0.8091\n",
            "Epoch 33/50\n",
            "222/222 [==============================] - 1s 5ms/step - loss: 0.6591 - accuracy: 0.8088\n",
            "Epoch 34/50\n",
            "222/222 [==============================] - 1s 5ms/step - loss: 0.6634 - accuracy: 0.8109\n",
            "Epoch 35/50\n",
            "222/222 [==============================] - 1s 5ms/step - loss: 0.6625 - accuracy: 0.8093\n",
            "Epoch 36/50\n",
            "222/222 [==============================] - 1s 5ms/step - loss: 0.6582 - accuracy: 0.8096\n",
            "Epoch 37/50\n",
            "222/222 [==============================] - 1s 5ms/step - loss: 0.6594 - accuracy: 0.8093\n",
            "Epoch 38/50\n",
            "222/222 [==============================] - 1s 6ms/step - loss: 0.6634 - accuracy: 0.8093\n",
            "Epoch 39/50\n",
            "222/222 [==============================] - 1s 6ms/step - loss: 0.6521 - accuracy: 0.8103\n",
            "Epoch 40/50\n",
            "222/222 [==============================] - 1s 6ms/step - loss: 0.6528 - accuracy: 0.8098\n",
            "Epoch 41/50\n",
            "222/222 [==============================] - 1s 6ms/step - loss: 0.6537 - accuracy: 0.8112\n",
            "Epoch 42/50\n",
            "222/222 [==============================] - 1s 6ms/step - loss: 0.6511 - accuracy: 0.8108\n",
            "Epoch 43/50\n",
            "222/222 [==============================] - 1s 6ms/step - loss: 0.6686 - accuracy: 0.8102\n",
            "Epoch 44/50\n",
            "222/222 [==============================] - 1s 6ms/step - loss: 0.6813 - accuracy: 0.8091\n",
            "Epoch 45/50\n",
            "222/222 [==============================] - 1s 6ms/step - loss: 0.6569 - accuracy: 0.8091\n",
            "Epoch 46/50\n",
            "222/222 [==============================] - 1s 5ms/step - loss: 0.6520 - accuracy: 0.8096\n",
            "Epoch 47/50\n",
            "222/222 [==============================] - 1s 6ms/step - loss: 0.6505 - accuracy: 0.8100\n",
            "Epoch 48/50\n",
            "222/222 [==============================] - 1s 5ms/step - loss: 0.6647 - accuracy: 0.8082\n",
            "Epoch 49/50\n",
            "222/222 [==============================] - 1s 5ms/step - loss: 0.6625 - accuracy: 0.8098\n",
            "Epoch 50/50\n",
            "222/222 [==============================] - 1s 5ms/step - loss: 0.6661 - accuracy: 0.8092\n"
          ],
          "name": "stdout"
        }
      ]
    },
    {
      "cell_type": "code",
      "metadata": {
        "id": "kgWntMbjAb_y",
        "colab_type": "code",
        "colab": {
          "base_uri": "https://localhost:8080/",
          "height": 187
        },
        "outputId": "5c82c275-0c83-4973-b6cf-2f52e7563883"
      },
      "source": [
        "predicted_y = clf1.predict(x_test)\n",
        "print(clf1.evaluate(x_test, y_test))"
      ],
      "execution_count": 33,
      "outputs": [
        {
          "output_type": "stream",
          "text": [
            "WARNING:tensorflow:Unresolved object in checkpoint: (root).optimizer.iter\n",
            "WARNING:tensorflow:Unresolved object in checkpoint: (root).optimizer.beta_1\n",
            "WARNING:tensorflow:Unresolved object in checkpoint: (root).optimizer.beta_2\n",
            "WARNING:tensorflow:Unresolved object in checkpoint: (root).optimizer.decay\n",
            "WARNING:tensorflow:Unresolved object in checkpoint: (root).optimizer.learning_rate\n",
            "WARNING:tensorflow:A checkpoint was restored (e.g. tf.train.Checkpoint.restore or tf.keras.Model.load_weights) but not all checkpointed values were used. See above for specific issues. Use expect_partial() on the load status object, e.g. tf.train.Checkpoint.restore(...).expect_partial(), to silence these warnings, or use assert_consumed() to make the check explicit. See https://www.tensorflow.org/guide/checkpoint#loading_mechanics for details.\n",
            "95/95 [==============================] - 0s 5ms/step - loss: 0.6851 - accuracy: 0.8088\n",
            "[0.6850770115852356, 0.8087557554244995]\n"
          ],
          "name": "stdout"
        }
      ]
    },
    {
      "cell_type": "code",
      "metadata": {
        "id": "uJF2ROBUcNMj",
        "colab_type": "code",
        "colab": {
          "base_uri": "https://localhost:8080/",
          "height": 149
        },
        "outputId": "cc86c174-a946-4959-ae10-2f319c0b1228"
      },
      "source": [
        "model = clf.export_model()"
      ],
      "execution_count": null,
      "outputs": [
        {
          "output_type": "stream",
          "text": [
            "WARNING:tensorflow:Unresolved object in checkpoint: (root).optimizer.iter\n",
            "WARNING:tensorflow:Unresolved object in checkpoint: (root).optimizer.beta_1\n",
            "WARNING:tensorflow:Unresolved object in checkpoint: (root).optimizer.beta_2\n",
            "WARNING:tensorflow:Unresolved object in checkpoint: (root).optimizer.decay\n",
            "WARNING:tensorflow:Unresolved object in checkpoint: (root).optimizer.learning_rate\n",
            "WARNING:tensorflow:A checkpoint was restored (e.g. tf.train.Checkpoint.restore or tf.keras.Model.load_weights) but not all checkpointed values were used. See above for specific issues. Use expect_partial() on the load status object, e.g. tf.train.Checkpoint.restore(...).expect_partial(), to silence these warnings, or use assert_consumed() to make the check explicit. See https://www.tensorflow.org/guide/checkpoint#loading_mechanics for details.\n"
          ],
          "name": "stdout"
        }
      ]
    },
    {
      "cell_type": "code",
      "metadata": {
        "id": "uNmG1_pI_UBb",
        "colab_type": "code",
        "colab": {
          "base_uri": "https://localhost:8080/",
          "height": 139
        },
        "outputId": "e5b066b9-33e4-4491-db20-93529b63e73c"
      },
      "source": [
        "print(clf.evaluate(), y_test))"
      ],
      "execution_count": null,
      "outputs": [
        {
          "output_type": "error",
          "ename": "SyntaxError",
          "evalue": "ignored",
          "traceback": [
            "\u001b[0;36m  File \u001b[0;32m\"<ipython-input-18-e5c9403477cf>\"\u001b[0;36m, line \u001b[0;32m1\u001b[0m\n\u001b[0;31m    model.\u001b[0m\n\u001b[0m          ^\u001b[0m\n\u001b[0;31mSyntaxError\u001b[0m\u001b[0;31m:\u001b[0m invalid syntax\n"
          ]
        }
      ]
    },
    {
      "cell_type": "code",
      "metadata": {
        "id": "LlWf4XDF_i09",
        "colab_type": "code",
        "colab": {}
      },
      "source": [
        ""
      ],
      "execution_count": null,
      "outputs": []
    }
  ]
}