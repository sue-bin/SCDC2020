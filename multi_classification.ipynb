{
  "nbformat": 4,
  "nbformat_minor": 0,
  "metadata": {
    "colab": {
      "name": "multi_classification.ipynb",
      "provenance": [],
      "collapsed_sections": [],
      "authorship_tag": "ABX9TyNpH7kfnc9phmMTWStWw5y/",
      "include_colab_link": true
    },
    "kernelspec": {
      "name": "python3",
      "display_name": "Python 3"
    },
    "accelerator": "TPU"
  },
  "cells": [
    {
      "cell_type": "markdown",
      "metadata": {
        "id": "view-in-github",
        "colab_type": "text"
      },
      "source": [
        "<a href=\"https://colab.research.google.com/github/sue-bin/SCDC2020/blob/master/multi_classification.ipynb\" target=\"_parent\"><img src=\"https://colab.research.google.com/assets/colab-badge.svg\" alt=\"Open In Colab\"/></a>"
      ]
    },
    {
      "cell_type": "code",
      "metadata": {
        "id": "Vqaktcnxjr-a",
        "colab_type": "code",
        "colab": {
          "base_uri": "https://localhost:8080/",
          "height": 36
        },
        "outputId": "8ac6297d-b679-4c63-af99-5b6ee63e46f2"
      },
      "source": [
        "from google.colab import drive\n",
        "drive.mount('/content/drive')"
      ],
      "execution_count": 2,
      "outputs": [
        {
          "output_type": "stream",
          "text": [
            "Mounted at /content/drive\n"
          ],
          "name": "stdout"
        }
      ]
    },
    {
      "cell_type": "code",
      "metadata": {
        "id": "FJYd9JDekbTw",
        "colab_type": "code",
        "colab": {}
      },
      "source": [
        "import pandas as pd\n",
        "import numpy as np\n",
        "import seaborn as sns\n",
        "from patsy import dmatrices\n",
        "import statsmodels.api as sm;\n",
        "from statsmodels.stats.outliers_influence import variance_inflation_factor\n",
        "%matplotlib inline\n",
        "pd.set_option(\"display.max_rows\", None)\n",
        "pd.set_option(\"display.max_columns\", None)"
      ],
      "execution_count": null,
      "outputs": []
    },
    {
      "cell_type": "code",
      "metadata": {
        "id": "n60p_LyVlyRt",
        "colab_type": "code",
        "colab": {
          "base_uri": "https://localhost:8080/",
          "height": 75
        },
        "outputId": "0d964fdd-82aa-4380-b45d-12d442295cea"
      },
      "source": [
        "import time\n",
        "import numpy as np \n",
        "import pandas as pd \n",
        "import matplotlib.pyplot as plt\n",
        "from matplotlib.pyplot import figure\n",
        "import seaborn as sns\n",
        "from sklearn import preprocessing\n",
        "from sklearn.preprocessing import LabelEncoder\n",
        "from sklearn.preprocessing import StandardScaler\n",
        "from sklearn.model_selection import train_test_split\n",
        "from sklearn.metrics import classification_report,confusion_matrix\n",
        "from sklearn.ensemble import RandomForestClassifier"
      ],
      "execution_count": 3,
      "outputs": [
        {
          "output_type": "stream",
          "text": [
            "/usr/local/lib/python3.6/dist-packages/statsmodels/tools/_testing.py:19: FutureWarning: pandas.util.testing is deprecated. Use the functions in the public API at pandas.testing instead.\n",
            "  import pandas.util.testing as tm\n"
          ],
          "name": "stderr"
        }
      ]
    },
    {
      "cell_type": "code",
      "metadata": {
        "id": "N3NKtTc8sNZ4",
        "colab_type": "code",
        "colab": {}
      },
      "source": [
        "info_df_raw = pd.read_csv(\"/content/drive/My Drive/데이터분석/samsung/info1.csv\")\n",
        "feat_df_raw = pd.read_csv(\"/content/drive/My Drive/데이터분석/samsung/samp_cst_feat.csv\")\n",
        "train_df_raw = pd.read_csv(\"/content/drive/My Drive/데이터분석/samsung/samp_train.csv\")\n",
        "dtype_df_raw = pd.read_excel(\"/content/drive/My Drive/데이터분석/samsung/variable_dtype.xlsx\")"
      ],
      "execution_count": 4,
      "outputs": []
    },
    {
      "cell_type": "code",
      "metadata": {
        "id": "wM0hvGlii1-r",
        "colab_type": "code",
        "colab": {}
      },
      "source": [
        "info_df = info_df_raw.copy()\n",
        "feat_df = feat_df_raw.copy()\n",
        "train_df = train_df_raw.copy()"
      ],
      "execution_count": 5,
      "outputs": []
    },
    {
      "cell_type": "code",
      "metadata": {
        "id": "ZIu-leKEkuIp",
        "colab_type": "code",
        "colab": {}
      },
      "source": [
        "dtype_dict = dtype_df_raw.set_index('Variable_Name')['dType'].to_dict()"
      ],
      "execution_count": 6,
      "outputs": []
    },
    {
      "cell_type": "code",
      "metadata": {
        "id": "nZbA8fmwk0EM",
        "colab_type": "code",
        "colab": {
          "base_uri": "https://localhost:8080/",
          "height": 223
        },
        "outputId": "2a43b939-e2f7-4dee-e795-cd06046b5b13"
      },
      "source": [
        "#카테고리컬 변수타입 변환\n",
        "for w in feat_df_raw.columns:\n",
        "  if w in dtype_dict.keys():\n",
        "    if dtype_dict[w] == \"categorical\":\n",
        "      feat_df[w] = feat_df_raw[w].astype(str)\n",
        "feat_df.dtypes.head(10)"
      ],
      "execution_count": 7,
      "outputs": [
        {
          "output_type": "execute_result",
          "data": {
            "text/plain": [
              "cst_id_di      int64\n",
              "VAR002       float64\n",
              "VAR003       float64\n",
              "VAR004       float64\n",
              "VAR005       float64\n",
              "VAR006       float64\n",
              "VAR007        object\n",
              "VAR008       float64\n",
              "VAR009       float64\n",
              "VAR010       float64\n",
              "dtype: object"
            ]
          },
          "metadata": {
            "tags": []
          },
          "execution_count": 7
        }
      ]
    },
    {
      "cell_type": "code",
      "metadata": {
        "id": "8A_RU2tZk_1S",
        "colab_type": "code",
        "colab": {}
      },
      "source": [
        "#카테고리컬 변수들 행 이름\n",
        "obj_col = []\n",
        "numerical_col = [] \n",
        "for w in dtype_dict:\n",
        "  if dtype_dict[w] == \"categorical\":\n",
        "    obj_col.append(w)\n",
        "  else:\n",
        "    numerical_col.append(w)"
      ],
      "execution_count": 8,
      "outputs": []
    },
    {
      "cell_type": "code",
      "metadata": {
        "id": "Zr_4Nd2JlBvo",
        "colab_type": "code",
        "colab": {
          "base_uri": "https://localhost:8080/",
          "height": 1000
        },
        "outputId": "5553e0b2-c3c5-4a80-b413-ad1b7ba198d5"
      },
      "source": [
        "##categorical은 다 dummy variables\n",
        "for i in obj_col:\n",
        "  print(feat_df[i].value_counts())\n",
        "  print()"
      ],
      "execution_count": 9,
      "outputs": [
        {
          "output_type": "stream",
          "text": [
            "0    8633\n",
            "1    1491\n",
            "Name: VAR007, dtype: int64\n",
            "\n",
            "0    5430\n",
            "1    4694\n",
            "Name: VAR015, dtype: int64\n",
            "\n",
            "0    8009\n",
            "1    2115\n",
            "Name: VAR018, dtype: int64\n",
            "\n",
            "0    9926\n",
            "1     198\n",
            "Name: VAR026, dtype: int64\n",
            "\n",
            "0    7606\n",
            "1    2518\n",
            "Name: VAR059, dtype: int64\n",
            "\n",
            "0    7324\n",
            "1    2800\n",
            "Name: VAR066, dtype: int64\n",
            "\n",
            "1    8723\n",
            "0    1401\n",
            "Name: VAR067, dtype: int64\n",
            "\n",
            "0    8166\n",
            "1    1958\n",
            "Name: VAR070, dtype: int64\n",
            "\n",
            "0    9314\n",
            "1     810\n",
            "Name: VAR071, dtype: int64\n",
            "\n",
            "0    8769\n",
            "1    1355\n",
            "Name: VAR077, dtype: int64\n",
            "\n",
            "0    9738\n",
            "1     386\n",
            "Name: VAR078, dtype: int64\n",
            "\n",
            "0    9515\n",
            "1     609\n",
            "Name: VAR094, dtype: int64\n",
            "\n",
            "0    9158\n",
            "1     966\n",
            "Name: VAR096, dtype: int64\n",
            "\n",
            "0    8956\n",
            "1    1168\n",
            "Name: VAR097, dtype: int64\n",
            "\n",
            "0    9306\n",
            "1     818\n",
            "Name: VAR098, dtype: int64\n",
            "\n",
            "0    8434\n",
            "1    1690\n",
            "Name: VAR107, dtype: int64\n",
            "\n",
            "0    7949\n",
            "1    2175\n",
            "Name: VAR111, dtype: int64\n",
            "\n",
            "0    7452\n",
            "1    2672\n",
            "Name: VAR124, dtype: int64\n",
            "\n",
            "0    7249\n",
            "1    2875\n",
            "Name: VAR127, dtype: int64\n",
            "\n",
            "0    9952\n",
            "1     172\n",
            "Name: VAR143, dtype: int64\n",
            "\n",
            "0    9485\n",
            "1     639\n",
            "Name: VAR144, dtype: int64\n",
            "\n",
            "0    8960\n",
            "1    1164\n",
            "Name: VAR145, dtype: int64\n",
            "\n",
            "0    8760\n",
            "1    1364\n",
            "Name: VAR148, dtype: int64\n",
            "\n",
            "1    5410\n",
            "0    4714\n",
            "Name: VAR165, dtype: int64\n",
            "\n",
            "0    8620\n",
            "1    1504\n",
            "Name: VAR177, dtype: int64\n",
            "\n",
            "0    8299\n",
            "1    1825\n",
            "Name: VAR179, dtype: int64\n",
            "\n",
            "0    8405\n",
            "1    1719\n",
            "Name: VAR199, dtype: int64\n",
            "\n",
            "0    8764\n",
            "1    1360\n",
            "Name: VAR208, dtype: int64\n",
            "\n"
          ],
          "name": "stdout"
        }
      ]
    },
    {
      "cell_type": "code",
      "metadata": {
        "id": "iEfbo3H4lDOK",
        "colab_type": "code",
        "colab": {}
      },
      "source": [
        "total_df = feat_df_raw.copy()\n",
        "total_df['label'] = train_df_raw['MRC_ID_DI']"
      ],
      "execution_count": 28,
      "outputs": []
    },
    {
      "cell_type": "code",
      "metadata": {
        "id": "pZS8RXmxlHh8",
        "colab_type": "code",
        "colab": {}
      },
      "source": [
        "df = total_df.copy()"
      ],
      "execution_count": 29,
      "outputs": []
    },
    {
      "cell_type": "code",
      "metadata": {
        "id": "BlZJXDTIltZB",
        "colab_type": "code",
        "colab": {}
      },
      "source": [
        "X = df.drop(['label'], axis = 1)\n",
        "Y = df['label']\n",
        "X = StandardScaler().fit_transform(X)"
      ],
      "execution_count": 30,
      "outputs": []
    },
    {
      "cell_type": "code",
      "metadata": {
        "id": "hdS7PV5FlvOT",
        "colab_type": "code",
        "colab": {
          "base_uri": "https://localhost:8080/",
          "height": 204
        },
        "outputId": "4554f909-14f0-4b33-f3f2-857f95b7b92f"
      },
      "source": [
        "from sklearn.decomposition import PCA\n",
        "\n",
        "pca = PCA(n_components=5)\n",
        "X_pca = pca.fit_transform(X)\n",
        "PCA_df = pd.DataFrame(data = X_pca, columns = ['PC1', 'PC2', 'PC3', 'PC4', 'PC5'])\n",
        "PCA_df = pd.concat([PCA_df, df['label']], axis = 1)\n",
        "PCA_df.head()"
      ],
      "execution_count": 13,
      "outputs": [
        {
          "output_type": "execute_result",
          "data": {
            "text/html": [
              "<div>\n",
              "<style scoped>\n",
              "    .dataframe tbody tr th:only-of-type {\n",
              "        vertical-align: middle;\n",
              "    }\n",
              "\n",
              "    .dataframe tbody tr th {\n",
              "        vertical-align: top;\n",
              "    }\n",
              "\n",
              "    .dataframe thead th {\n",
              "        text-align: right;\n",
              "    }\n",
              "</style>\n",
              "<table border=\"1\" class=\"dataframe\">\n",
              "  <thead>\n",
              "    <tr style=\"text-align: right;\">\n",
              "      <th></th>\n",
              "      <th>PC1</th>\n",
              "      <th>PC2</th>\n",
              "      <th>PC3</th>\n",
              "      <th>PC4</th>\n",
              "      <th>PC5</th>\n",
              "      <th>label</th>\n",
              "    </tr>\n",
              "  </thead>\n",
              "  <tbody>\n",
              "    <tr>\n",
              "      <th>0</th>\n",
              "      <td>7.279507</td>\n",
              "      <td>-3.813250</td>\n",
              "      <td>5.084972</td>\n",
              "      <td>-5.013251</td>\n",
              "      <td>-0.228789</td>\n",
              "      <td>0</td>\n",
              "    </tr>\n",
              "    <tr>\n",
              "      <th>1</th>\n",
              "      <td>14.681195</td>\n",
              "      <td>4.586905</td>\n",
              "      <td>-2.685685</td>\n",
              "      <td>2.918949</td>\n",
              "      <td>-3.615027</td>\n",
              "      <td>8</td>\n",
              "    </tr>\n",
              "    <tr>\n",
              "      <th>2</th>\n",
              "      <td>-14.916882</td>\n",
              "      <td>-1.823236</td>\n",
              "      <td>0.040112</td>\n",
              "      <td>-1.621081</td>\n",
              "      <td>-5.169978</td>\n",
              "      <td>0</td>\n",
              "    </tr>\n",
              "    <tr>\n",
              "      <th>3</th>\n",
              "      <td>-3.165472</td>\n",
              "      <td>4.684853</td>\n",
              "      <td>-3.915588</td>\n",
              "      <td>-4.432158</td>\n",
              "      <td>1.878800</td>\n",
              "      <td>5</td>\n",
              "    </tr>\n",
              "    <tr>\n",
              "      <th>4</th>\n",
              "      <td>19.599368</td>\n",
              "      <td>7.075075</td>\n",
              "      <td>4.594998</td>\n",
              "      <td>2.728053</td>\n",
              "      <td>-0.535301</td>\n",
              "      <td>6</td>\n",
              "    </tr>\n",
              "  </tbody>\n",
              "</table>\n",
              "</div>"
            ],
            "text/plain": [
              "         PC1       PC2       PC3       PC4       PC5  label\n",
              "0   7.279507 -3.813250  5.084972 -5.013251 -0.228789      0\n",
              "1  14.681195  4.586905 -2.685685  2.918949 -3.615027      8\n",
              "2 -14.916882 -1.823236  0.040112 -1.621081 -5.169978      0\n",
              "3  -3.165472  4.684853 -3.915588 -4.432158  1.878800      5\n",
              "4  19.599368  7.075075  4.594998  2.728053 -0.535301      6"
            ]
          },
          "metadata": {
            "tags": []
          },
          "execution_count": 13
        }
      ]
    },
    {
      "cell_type": "code",
      "metadata": {
        "id": "Cm5l2STWrDPs",
        "colab_type": "code",
        "colab": {}
      },
      "source": [
        "!pip install autokeras\n",
        "!pip install git+https://github.com/keras-team/keras-tuner.git@1.0.2rc1"
      ],
      "execution_count": null,
      "outputs": []
    },
    {
      "cell_type": "code",
      "metadata": {
        "id": "ri79QrgPbPJj",
        "colab_type": "code",
        "colab": {}
      },
      "source": [
        "import autokeras as ak"
      ],
      "execution_count": 27,
      "outputs": []
    },
    {
      "cell_type": "code",
      "metadata": {
        "id": "zqBVLoZtbRiZ",
        "colab_type": "code",
        "colab": {
          "base_uri": "https://localhost:8080/",
          "height": 1000
        },
        "outputId": "c8ee4fb1-561f-4077-eb82-01810e0c036e"
      },
      "source": [
        "x_train, x_test, y_train, y_test = train_test_split(X, Y, test_size=0.25, random_state=32445)\n",
        "clf = ak.StructuredDataClassifier(\n",
        "    overwrite=False,\n",
        "    max_trials=100)\n",
        "\n",
        "clf.fit(x_train, y_train, epochs=30)\n",
        "\n",
        "predicted_y = clf.predict(x_test)\n",
        "\n",
        "print(clf.evaluate(x_test, y_test))\n"
      ],
      "execution_count": 40,
      "outputs": [
        {
          "output_type": "stream",
          "text": [
            "Trial 31 Complete [00h 01m 15s]\n",
            "val_accuracy: 0.8149898648262024\n",
            "\n",
            "Best val_accuracy So Far: 0.8210668563842773\n",
            "Total elapsed time: 00h 28m 21s\n",
            "INFO:tensorflow:Oracle triggered exit\n",
            "Epoch 1/30\n",
            "238/238 [==============================] - 2s 7ms/step - loss: 2.1626 - accuracy: 0.3285\n",
            "Epoch 2/30\n",
            "238/238 [==============================] - 2s 7ms/step - loss: 1.8297 - accuracy: 0.4969\n",
            "Epoch 3/30\n",
            "238/238 [==============================] - 2s 7ms/step - loss: 1.5798 - accuracy: 0.5898\n",
            "Epoch 4/30\n",
            "238/238 [==============================] - 2s 7ms/step - loss: 1.3762 - accuracy: 0.6643\n",
            "Epoch 5/30\n",
            "238/238 [==============================] - 2s 7ms/step - loss: 1.2198 - accuracy: 0.7118\n",
            "Epoch 6/30\n",
            "238/238 [==============================] - 2s 7ms/step - loss: 1.0846 - accuracy: 0.7485\n",
            "Epoch 7/30\n",
            "238/238 [==============================] - 2s 7ms/step - loss: 0.9788 - accuracy: 0.7729\n",
            "Epoch 8/30\n",
            "238/238 [==============================] - 2s 7ms/step - loss: 0.9087 - accuracy: 0.7832\n",
            "Epoch 9/30\n",
            "238/238 [==============================] - 2s 7ms/step - loss: 0.8589 - accuracy: 0.7953\n",
            "Epoch 10/30\n",
            "238/238 [==============================] - 2s 7ms/step - loss: 0.8088 - accuracy: 0.7993\n",
            "Epoch 11/30\n",
            "238/238 [==============================] - 2s 7ms/step - loss: 0.7881 - accuracy: 0.7989\n",
            "Epoch 12/30\n",
            "238/238 [==============================] - 2s 7ms/step - loss: 0.7621 - accuracy: 0.8032\n",
            "Epoch 13/30\n",
            "238/238 [==============================] - 2s 7ms/step - loss: 0.7477 - accuracy: 0.8032\n",
            "Epoch 14/30\n",
            "238/238 [==============================] - 2s 7ms/step - loss: 0.7248 - accuracy: 0.8068\n",
            "Epoch 15/30\n",
            "238/238 [==============================] - 2s 7ms/step - loss: 0.7093 - accuracy: 0.8055\n",
            "Epoch 16/30\n",
            "238/238 [==============================] - 2s 7ms/step - loss: 0.7004 - accuracy: 0.8061\n",
            "Epoch 17/30\n",
            "238/238 [==============================] - 2s 7ms/step - loss: 0.6887 - accuracy: 0.8063\n",
            "Epoch 18/30\n",
            "238/238 [==============================] - 2s 7ms/step - loss: 0.6796 - accuracy: 0.8052\n",
            "Epoch 19/30\n",
            "238/238 [==============================] - 2s 7ms/step - loss: 0.6692 - accuracy: 0.8109\n",
            "Epoch 20/30\n",
            "238/238 [==============================] - 2s 7ms/step - loss: 0.6642 - accuracy: 0.8092\n",
            "Epoch 21/30\n",
            "238/238 [==============================] - 2s 7ms/step - loss: 0.6577 - accuracy: 0.8089\n",
            "Epoch 22/30\n",
            "238/238 [==============================] - 2s 7ms/step - loss: 0.6454 - accuracy: 0.8102\n",
            "Epoch 23/30\n",
            "238/238 [==============================] - 2s 8ms/step - loss: 0.6443 - accuracy: 0.8080\n",
            "Epoch 24/30\n",
            "238/238 [==============================] - 2s 8ms/step - loss: 0.6366 - accuracy: 0.8122\n",
            "Epoch 25/30\n",
            "238/238 [==============================] - 2s 8ms/step - loss: 0.6308 - accuracy: 0.8100\n",
            "Epoch 26/30\n",
            "238/238 [==============================] - 2s 7ms/step - loss: 0.6243 - accuracy: 0.8092\n",
            "Epoch 27/30\n",
            "238/238 [==============================] - 2s 7ms/step - loss: 0.6222 - accuracy: 0.8122\n",
            "Epoch 28/30\n",
            "238/238 [==============================] - 2s 7ms/step - loss: 0.6191 - accuracy: 0.8134\n",
            "Epoch 29/30\n",
            "238/238 [==============================] - 2s 7ms/step - loss: 0.6197 - accuracy: 0.8115\n",
            "Epoch 30/30\n",
            "238/238 [==============================] - 2s 7ms/step - loss: 0.6048 - accuracy: 0.8151\n",
            "WARNING:tensorflow:Unresolved object in checkpoint: (root).optimizer.iter\n",
            "WARNING:tensorflow:Unresolved object in checkpoint: (root).optimizer.beta_1\n",
            "WARNING:tensorflow:Unresolved object in checkpoint: (root).optimizer.beta_2\n",
            "WARNING:tensorflow:Unresolved object in checkpoint: (root).optimizer.decay\n",
            "WARNING:tensorflow:Unresolved object in checkpoint: (root).optimizer.learning_rate\n",
            "WARNING:tensorflow:A checkpoint was restored (e.g. tf.train.Checkpoint.restore or tf.keras.Model.load_weights) but not all checkpointed values were used. See above for specific issues. Use expect_partial() on the load status object, e.g. tf.train.Checkpoint.restore(...).expect_partial(), to silence these warnings, or use assert_consumed() to make the check explicit. See https://www.tensorflow.org/guide/checkpoint#loading_mechanics for details.\n",
            "80/80 [==============================] - 0s 6ms/step - loss: 0.5970 - accuracy: 0.8238\n",
            "[0.5969670414924622, 0.8237850666046143]\n"
          ],
          "name": "stdout"
        }
      ]
    },
    {
      "cell_type": "code",
      "metadata": {
        "id": "uJF2ROBUcNMj",
        "colab_type": "code",
        "colab": {
          "base_uri": "https://localhost:8080/",
          "height": 145
        },
        "outputId": "55e45f5d-55e6-4864-a7b9-51b464554ce7"
      },
      "source": [
        "model = clf.export_model()"
      ],
      "execution_count": 42,
      "outputs": [
        {
          "output_type": "stream",
          "text": [
            "WARNING:tensorflow:Unresolved object in checkpoint: (root).optimizer.iter\n",
            "WARNING:tensorflow:Unresolved object in checkpoint: (root).optimizer.beta_1\n",
            "WARNING:tensorflow:Unresolved object in checkpoint: (root).optimizer.beta_2\n",
            "WARNING:tensorflow:Unresolved object in checkpoint: (root).optimizer.decay\n",
            "WARNING:tensorflow:Unresolved object in checkpoint: (root).optimizer.learning_rate\n",
            "WARNING:tensorflow:A checkpoint was restored (e.g. tf.train.Checkpoint.restore or tf.keras.Model.load_weights) but not all checkpointed values were used. See above for specific issues. Use expect_partial() on the load status object, e.g. tf.train.Checkpoint.restore(...).expect_partial(), to silence these warnings, or use assert_consumed() to make the check explicit. See https://www.tensorflow.org/guide/checkpoint#loading_mechanics for details.\n"
          ],
          "name": "stdout"
        }
      ]
    },
    {
      "cell_type": "code",
      "metadata": {
        "id": "uNmG1_pI_UBb",
        "colab_type": "code",
        "colab": {
          "base_uri": "https://localhost:8080/",
          "height": 322
        },
        "outputId": "9892fa74-70bc-4ef9-d44d-ae71af9105db"
      },
      "source": [
        "model."
      ],
      "execution_count": 44,
      "outputs": [
        {
          "output_type": "error",
          "ename": "ValueError",
          "evalue": "ignored",
          "traceback": [
            "\u001b[0;31m---------------------------------------------------------------------------\u001b[0m",
            "\u001b[0;31mValueError\u001b[0m                                Traceback (most recent call last)",
            "\u001b[0;32m<ipython-input-44-3876033efa86>\u001b[0m in \u001b[0;36m<module>\u001b[0;34m()\u001b[0m\n\u001b[0;32m----> 1\u001b[0;31m \u001b[0mmodel\u001b[0m\u001b[0;34m(\u001b[0m\u001b[0;34m)\u001b[0m\u001b[0;34m\u001b[0m\u001b[0;34m\u001b[0m\u001b[0m\n\u001b[0m",
            "\u001b[0;32m/usr/local/lib/python3.6/dist-packages/tensorflow/python/keras/engine/base_layer.py\u001b[0m in \u001b[0;36m__call__\u001b[0;34m(self, *args, **kwargs)\u001b[0m\n\u001b[1;32m    914\u001b[0m     \u001b[0;31m#   not to any other argument.\u001b[0m\u001b[0;34m\u001b[0m\u001b[0;34m\u001b[0m\u001b[0;34m\u001b[0m\u001b[0m\n\u001b[1;32m    915\u001b[0m     \u001b[0;31m# - setting the SavedModel saving spec.\u001b[0m\u001b[0;34m\u001b[0m\u001b[0;34m\u001b[0m\u001b[0;34m\u001b[0m\u001b[0m\n\u001b[0;32m--> 916\u001b[0;31m     \u001b[0minputs\u001b[0m\u001b[0;34m,\u001b[0m \u001b[0margs\u001b[0m\u001b[0;34m,\u001b[0m \u001b[0mkwargs\u001b[0m \u001b[0;34m=\u001b[0m \u001b[0mself\u001b[0m\u001b[0;34m.\u001b[0m\u001b[0m_split_out_first_arg\u001b[0m\u001b[0;34m(\u001b[0m\u001b[0margs\u001b[0m\u001b[0;34m,\u001b[0m \u001b[0mkwargs\u001b[0m\u001b[0;34m)\u001b[0m\u001b[0;34m\u001b[0m\u001b[0;34m\u001b[0m\u001b[0m\n\u001b[0m\u001b[1;32m    917\u001b[0m     \u001b[0minput_list\u001b[0m \u001b[0;34m=\u001b[0m \u001b[0mnest\u001b[0m\u001b[0;34m.\u001b[0m\u001b[0mflatten\u001b[0m\u001b[0;34m(\u001b[0m\u001b[0minputs\u001b[0m\u001b[0;34m)\u001b[0m\u001b[0;34m\u001b[0m\u001b[0;34m\u001b[0m\u001b[0m\n\u001b[1;32m    918\u001b[0m \u001b[0;34m\u001b[0m\u001b[0m\n",
            "\u001b[0;32m/usr/local/lib/python3.6/dist-packages/tensorflow/python/keras/engine/base_layer.py\u001b[0m in \u001b[0;36m_split_out_first_arg\u001b[0;34m(self, args, kwargs)\u001b[0m\n\u001b[1;32m   2978\u001b[0m     \u001b[0;32melse\u001b[0m\u001b[0;34m:\u001b[0m\u001b[0;34m\u001b[0m\u001b[0;34m\u001b[0m\u001b[0m\n\u001b[1;32m   2979\u001b[0m       raise ValueError(\n\u001b[0;32m-> 2980\u001b[0;31m           'The first argument to `Layer.call` must always be passed.')\n\u001b[0m\u001b[1;32m   2981\u001b[0m     \u001b[0;32mreturn\u001b[0m \u001b[0minputs\u001b[0m\u001b[0;34m,\u001b[0m \u001b[0margs\u001b[0m\u001b[0;34m,\u001b[0m \u001b[0mkwargs\u001b[0m\u001b[0;34m\u001b[0m\u001b[0;34m\u001b[0m\u001b[0m\n\u001b[1;32m   2982\u001b[0m \u001b[0;34m\u001b[0m\u001b[0m\n",
            "\u001b[0;31mValueError\u001b[0m: The first argument to `Layer.call` must always be passed."
          ]
        }
      ]
    },
    {
      "cell_type": "code",
      "metadata": {
        "id": "LlWf4XDF_i09",
        "colab_type": "code",
        "colab": {}
      },
      "source": [
        ""
      ],
      "execution_count": null,
      "outputs": []
    }
  ]
}